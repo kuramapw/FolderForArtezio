{
  "nbformat": 4,
  "nbformat_minor": 0,
  "metadata": {
    "colab": {
      "name": "Untitled17.ipynb",
      "provenance": [],
      "authorship_tag": "ABX9TyM+8Tz50cUSrKN1dmWM8iOu",
      "include_colab_link": true
    },
    "kernelspec": {
      "name": "python3",
      "display_name": "Python 3"
    }
  },
  "cells": [
    {
      "cell_type": "markdown",
      "metadata": {
        "id": "view-in-github",
        "colab_type": "text"
      },
      "source": [
        "<a href=\"https://colab.research.google.com/github/kuramapw/FolderForArtezio/blob/master/Lesson2/4.ipynb\" target=\"_parent\"><img src=\"https://colab.research.google.com/assets/colab-badge.svg\" alt=\"Open In Colab\"/></a>"
      ]
    },
    {
      "cell_type": "code",
      "metadata": {
        "id": "DqK766XJYgjw",
        "colab_type": "code",
        "colab": {
          "base_uri": "https://localhost:8080/",
          "height": 92
        },
        "outputId": "5a11d36f-09a8-444a-fc7c-d2187cf98644"
      },
      "source": [
        "def range2x(stop, start=0, iter=1):\n",
        "    i=start\n",
        "    ans=list()\n",
        "    while(i<stop):\n",
        "        ans.append(i)\n",
        "        i+=iter\n",
        "    return ans\n",
        "print(range2x(5))\n",
        "print(range2x(5,2))\n",
        "print(range2x(5,2,2))\n",
        "print(range2x(5,2,4))"
      ],
      "execution_count": 3,
      "outputs": [
        {
          "output_type": "stream",
          "text": [
            "[0, 1, 2, 3, 4]\n",
            "[2, 3, 4]\n",
            "[2, 4]\n",
            "[2]\n"
          ],
          "name": "stdout"
        }
      ]
    }
  ]
}