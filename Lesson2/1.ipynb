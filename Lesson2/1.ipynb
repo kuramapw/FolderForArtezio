{
  "nbformat": 4,
  "nbformat_minor": 0,
  "metadata": {
    "colab": {
      "name": "Untitled12.ipynb",
      "provenance": [],
      "authorship_tag": "ABX9TyN9wtjiG5Yg78bqx1eH80r1",
      "include_colab_link": true
    },
    "kernelspec": {
      "name": "python3",
      "display_name": "Python 3"
    }
  },
  "cells": [
    {
      "cell_type": "markdown",
      "metadata": {
        "id": "view-in-github",
        "colab_type": "text"
      },
      "source": [
        "<a href=\"https://colab.research.google.com/github/kuramapw/FolderForArtezio/blob/master/Lesson2/1.ipynb\" target=\"_parent\"><img src=\"https://colab.research.google.com/assets/colab-badge.svg\" alt=\"Open In Colab\"/></a>"
      ]
    },
    {
      "cell_type": "code",
      "metadata": {
        "id": "1gDwYPDOKuWR",
        "colab_type": "code",
        "colab": {}
      },
      "source": [
        "def f():\n",
        "    n=int(input(\"Введите верхнюю границу : \"))\n",
        "    for i in range(n+1):\n",
        "        if(i%2==1):\n",
        "            print(i*i)"
      ],
      "execution_count": 0,
      "outputs": []
    }
  ]
}