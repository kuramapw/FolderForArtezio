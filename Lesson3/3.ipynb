{
  "nbformat": 4,
  "nbformat_minor": 0,
  "metadata": {
    "colab": {
      "name": "Untitled20.ipynb",
      "provenance": [],
      "authorship_tag": "ABX9TyOtOer0VzF0OUNj94m4C5HY",
      "include_colab_link": true
    },
    "kernelspec": {
      "name": "python3",
      "display_name": "Python 3"
    }
  },
  "cells": [
    {
      "cell_type": "markdown",
      "metadata": {
        "id": "view-in-github",
        "colab_type": "text"
      },
      "source": [
        "<a href=\"https://colab.research.google.com/github/kuramapw/FolderForArtezio/blob/master/Lesson3/3.ipynb\" target=\"_parent\"><img src=\"https://colab.research.google.com/assets/colab-badge.svg\" alt=\"Open In Colab\"/></a>"
      ]
    },
    {
      "cell_type": "code",
      "metadata": {
        "id": "4bgmnwxOChDa",
        "colab_type": "code",
        "colab": {}
      },
      "source": [
        "mx = 0"
      ],
      "execution_count": 0,
      "outputs": []
    },
    {
      "cell_type": "code",
      "metadata": {
        "id": "D_k4Bz7SNmbP",
        "colab_type": "code",
        "colab": {
          "base_uri": "https://localhost:8080/",
          "height": 242
        },
        "outputId": "24a8878a-ec18-42a9-e4c2-19913a4db99a"
      },
      "source": [
        "def f(a, b, c, d):\n",
        "    mx = max(a, b, c, d)\n",
        "    print(a, b, c, d, '\\nНаибольшее :', mx)\n",
        "    return (a+b+c+d)/4\n",
        "\n",
        "def f(*args):\n",
        "    mx = max(args)\n",
        "    print(args, '\\nНаибольшее', mx)\n",
        "    return sum(args)/len(args)\n",
        "\n",
        "print('Среднее :', f(1, 2, 3, 4))\n",
        "print('Среднее :', f(-3, -2, 10, 1))\n",
        "print('Среднее :', f(7, 8, 8, 1))\n",
        "print('Среднее :', f(1, 2, 3))\n"
      ],
      "execution_count": 23,
      "outputs": [
        {
          "output_type": "stream",
          "text": [
            "(1, 2, 3, 4) \n",
            "Наибольшее 4\n",
            "Среднее : 2.5\n",
            "(-3, -2, 10, 1) \n",
            "Наибольшее 10\n",
            "Среднее : 1.5\n",
            "(7, 8, 8, 1) \n",
            "Наибольшее 8\n",
            "Среднее : 6.0\n",
            "(1, 2, 3) \n",
            "Наибольшее 3\n",
            "Среднее : 2.0\n"
          ],
          "name": "stdout"
        }
      ]
    }
  ]
}