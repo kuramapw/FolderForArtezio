{
  "nbformat": 4,
  "nbformat_minor": 0,
  "metadata": {
    "colab": {
      "name": "Untitled21.ipynb",
      "provenance": [],
      "authorship_tag": "ABX9TyPr/5H5m2CDJt/sJ3UodKoZ",
      "include_colab_link": true
    },
    "kernelspec": {
      "name": "python3",
      "display_name": "Python 3"
    }
  },
  "cells": [
    {
      "cell_type": "markdown",
      "metadata": {
        "id": "view-in-github",
        "colab_type": "text"
      },
      "source": [
        "<a href=\"https://colab.research.google.com/github/kuramapw/FolderForArtezio/blob/master/Lesson3/5.ipynb\" target=\"_parent\"><img src=\"https://colab.research.google.com/assets/colab-badge.svg\" alt=\"Open In Colab\"/></a>"
      ]
    },
    {
      "cell_type": "code",
      "metadata": {
        "id": "a_JcNXsNSS26",
        "colab_type": "code",
        "colab": {}
      },
      "source": [
        "def f(*args):\n",
        "    a=args\n",
        "    m=a[0]\n",
        "    for i in a:\n",
        "        if(abs(i)<m):\n",
        "           m=i\n",
        "    return m"
      ],
      "execution_count": 0,
      "outputs": []
    }
  ]
}