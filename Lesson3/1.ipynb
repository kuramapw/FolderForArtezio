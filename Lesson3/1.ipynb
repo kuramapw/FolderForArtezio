{
  "nbformat": 4,
  "nbformat_minor": 0,
  "metadata": {
    "colab": {
      "name": "Untitled18.ipynb",
      "provenance": [],
      "authorship_tag": "ABX9TyPpvGNxQYHEjPFSzmAsyvfU",
      "include_colab_link": true
    },
    "kernelspec": {
      "name": "python3",
      "display_name": "Python 3"
    }
  },
  "cells": [
    {
      "cell_type": "markdown",
      "metadata": {
        "id": "view-in-github",
        "colab_type": "text"
      },
      "source": [
        "<a href=\"https://colab.research.google.com/github/kuramapw/FolderForArtezio/blob/master/Lesson3/1.ipynb\" target=\"_parent\"><img src=\"https://colab.research.google.com/assets/colab-badge.svg\" alt=\"Open In Colab\"/></a>"
      ]
    },
    {
      "cell_type": "code",
      "metadata": {
        "id": "FW09-bVFa57v",
        "colab_type": "code",
        "colab": {
          "base_uri": "https://localhost:8080/",
          "height": 73
        },
        "outputId": "775d575d-9efa-4016-c414-fa645d855bff"
      },
      "source": [
        "def f1(a):\n",
        "    for i in range(len(a)):\n",
        "        a[i] *= a[i]\n",
        "    return a\n",
        "\n",
        "\n",
        "def f2(a):\n",
        "    b = list()\n",
        "    for i in range(len(a)):\n",
        "        if((i + 1) % 2 == 0):\n",
        "            b.append(a[i])\n",
        "    return b\n",
        "\n",
        "\n",
        "def f3(a):\n",
        "    b = list()\n",
        "    for i in range(len(a)):\n",
        "        if(((i+1) % 2 == 1) and (a[i] % 2 == 0)):\n",
        "            b.append(a[i] ** 3)\n",
        "    return b\n",
        "print(f1([1, 2, 3, 4, 5]))\n",
        "print(f2([1, 2, 3, 4, 5]))\n",
        "print(f3([1, 2, 2, 4, 5]))\n"
      ],
      "execution_count": 11,
      "outputs": [
        {
          "output_type": "stream",
          "text": [
            "[1, 4, 9, 16, 25]\n",
            "[2, 4]\n",
            "[8]\n"
          ],
          "name": "stdout"
        }
      ]
    }
  ]
}