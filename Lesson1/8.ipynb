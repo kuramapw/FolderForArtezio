{
  "nbformat": 4,
  "nbformat_minor": 0,
  "metadata": {
    "colab": {
      "name": "Untitled8.ipynb",
      "provenance": [],
      "authorship_tag": "ABX9TyO5bPoURCGPI7xT9Cb/689N",
      "include_colab_link": true
    },
    "kernelspec": {
      "name": "python3",
      "display_name": "Python 3"
    }
  },
  "cells": [
    {
      "cell_type": "markdown",
      "metadata": {
        "id": "view-in-github",
        "colab_type": "text"
      },
      "source": [
        "<a href=\"https://colab.research.google.com/github/kuramapw/FolderForArtezio/blob/master/Lesson1/8.ipynb\" target=\"_parent\"><img src=\"https://colab.research.google.com/assets/colab-badge.svg\" alt=\"Open In Colab\"/></a>"
      ]
    },
    {
      "cell_type": "code",
      "metadata": {
        "id": "Vq874m9SeBfT",
        "colab_type": "code",
        "colab": {
          "base_uri": "https://localhost:8080/",
          "height": 69
        },
        "outputId": "d0315a45-f9a3-4639-9af0-f834dc4a6f17"
      },
      "source": [
        "d1=dict()\n",
        "for i in range(5):  #генерируем словарь\n",
        "    d1[i]=i*i\n",
        "print(\"Наш словарь : \", d1)\n",
        "max=[-5, -5, -5]\n",
        "idmax=[0,0,0]\n",
        "d2=d1\n",
        "for key in d2:\n",
        "    if d2[key]>max[0]:\n",
        "        max[0]=d2[key]\n",
        "        idmax[0]=key\n",
        "for key in d2:\n",
        "    if (d2[key]>max[1] and key!=idmax[0]):\n",
        "        max[1]=d2[key]\n",
        "        idmax[1]=key\n",
        "for key in d2:\n",
        "    if (d2[i]>max[2] and (key!=idmax[0] and key!=idmax[1])):\n",
        "        max[2]=d2[key]\n",
        "        idmax[2]=key\n",
        "print(\"3 наибольших элемента : \", max)\n",
        "print(\"Номера трех наибольших элеметов : \", idmax)"
      ],
      "execution_count": 11,
      "outputs": [
        {
          "output_type": "stream",
          "text": [
            "Наш словарь :  {0: 0, 1: 1, 2: 4, 3: 9, 4: 16}\n",
            "3 наибольших элемента :  [16, 9, 4]\n",
            "Номера трех наибольших элеметов :  [4, 3, 2]\n"
          ],
          "name": "stdout"
        }
      ]
    }
  ]
}