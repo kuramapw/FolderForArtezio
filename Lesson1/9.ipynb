{
  "nbformat": 4,
  "nbformat_minor": 0,
  "metadata": {
    "colab": {
      "name": "Untitled10.ipynb",
      "provenance": [],
      "authorship_tag": "ABX9TyMKMfnVJrsfSLcvf8naO2Dh",
      "include_colab_link": true
    },
    "kernelspec": {
      "name": "python3",
      "display_name": "Python 3"
    }
  },
  "cells": [
    {
      "cell_type": "markdown",
      "metadata": {
        "id": "view-in-github",
        "colab_type": "text"
      },
      "source": [
        "<a href=\"https://colab.research.google.com/github/kuramapw/FolderForArtezio/blob/master/Lesson1/9.ipynb\" target=\"_parent\"><img src=\"https://colab.research.google.com/assets/colab-badge.svg\" alt=\"Open In Colab\"/></a>"
      ]
    },
    {
      "cell_type": "code",
      "metadata": {
        "id": "YIYjOlTpTReJ",
        "colab_type": "code",
        "colab": {
          "base_uri": "https://localhost:8080/",
          "height": 34
        },
        "outputId": "eab884ed-8b11-43af-e1a5-1447ad65fc95"
      },
      "source": [
        "#s=list(input(\"Введите набор символов : \"))\n",
        "s=list(\"1616\")\n",
        "s1=set()\n",
        "s2=list()\n",
        "for i in s:\n",
        "    if(not(i in s1)):\n",
        "        s1.update(i)\n",
        "        s2.append(i)\n",
        "print(s2)"
      ],
      "execution_count": 38,
      "outputs": [
        {
          "output_type": "stream",
          "text": [
            "['1', '6']\n"
          ],
          "name": "stdout"
        }
      ]
    },
    {
      "cell_type": "code",
      "metadata": {
        "id": "NyzG7bcXdX9k",
        "colab_type": "code",
        "colab": {
          "base_uri": "https://localhost:8080/",
          "height": 104
        },
        "outputId": "28af73f3-8ab1-4f59-e61f-7db50d5476eb"
      },
      "source": [
        "s=list(input(\"Введите набор символов : \"))\n",
        "for i in s:\n",
        "    print(i)"
      ],
      "execution_count": 31,
      "outputs": [
        {
          "output_type": "stream",
          "text": [
            "Введите набор символов : 1616\n",
            "1\n",
            "6\n",
            "1\n",
            "6\n"
          ],
          "name": "stdout"
        }
      ]
    }
  ]
}