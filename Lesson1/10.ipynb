{
  "nbformat": 4,
  "nbformat_minor": 0,
  "metadata": {
    "colab": {
      "name": "Untitled11.ipynb",
      "provenance": [],
      "authorship_tag": "ABX9TyNUsADBqjx2PJzeUY7ZVx0i",
      "include_colab_link": true
    },
    "kernelspec": {
      "name": "python3",
      "display_name": "Python 3"
    }
  },
  "cells": [
    {
      "cell_type": "markdown",
      "metadata": {
        "id": "view-in-github",
        "colab_type": "text"
      },
      "source": [
        "<a href=\"https://colab.research.google.com/github/kuramapw/FolderForArtezio/blob/master/Lesson1/10.ipynb\" target=\"_parent\"><img src=\"https://colab.research.google.com/assets/colab-badge.svg\" alt=\"Open In Colab\"/></a>"
      ]
    },
    {
      "cell_type": "code",
      "metadata": {
        "id": "FBsoq_X24oe4",
        "colab_type": "code",
        "colab": {
          "base_uri": "https://localhost:8080/",
          "height": 34
        },
        "outputId": "738971f8-53a4-4817-b74a-2c9a3906f6a0"
      },
      "source": [
        "def difference(list1, list2):\n",
        "    return ((set(list2).symmetric_difference(set(list1))))\n",
        "s1=\"asdfgg1\"\n",
        "s2=\"qawsedrft\"\n",
        "print(difference(s1,s2))"
      ],
      "execution_count": 3,
      "outputs": [
        {
          "output_type": "stream",
          "text": [
            "{'w', 'e', 'r', 't', '1', 'g', 'q'}\n"
          ],
          "name": "stdout"
        }
      ]
    }
  ]
}