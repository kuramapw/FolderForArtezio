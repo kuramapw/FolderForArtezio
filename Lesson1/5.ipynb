{
  "nbformat": 4,
  "nbformat_minor": 0,
  "metadata": {
    "colab": {
      "name": "Untitled5.ipynb",
      "provenance": [],
      "authorship_tag": "ABX9TyNuGXGE7+Mfolr75qwcvWOo",
      "include_colab_link": true
    },
    "kernelspec": {
      "name": "python3",
      "display_name": "Python 3"
    }
  },
  "cells": [
    {
      "cell_type": "markdown",
      "metadata": {
        "id": "view-in-github",
        "colab_type": "text"
      },
      "source": [
        "<a href=\"https://colab.research.google.com/github/kuramapw/FolderForArtezio/blob/master/Lesson1/5.ipynb\" target=\"_parent\"><img src=\"https://colab.research.google.com/assets/colab-badge.svg\" alt=\"Open In Colab\"/></a>"
      ]
    },
    {
      "cell_type": "code",
      "metadata": {
        "id": "ije6EE-lJO8Y",
        "colab_type": "code",
        "colab": {
          "base_uri": "https://localhost:8080/",
          "height": 139
        },
        "outputId": "367e8073-f01c-4c3a-a7d2-ee15a83cf3dd"
      },
      "source": [
        "print(\"Введите элементы множества 1 подряд, без запятых и пробелов: \")\n",
        "a1=set(input())\n",
        "print(\"Введите элементы множества 2 подряд, без запятых и пробелов: \")\n",
        "a2=set(input())\n",
        "print(\"Введите элементы множества 3 подряд, без запятых и пробелов: \")\n",
        "a3=set(input())\n",
        "#В условии сказано \"первого И второго множеств\", значит берем их пересечение\n",
        "if a3.issubset(a1.intersection(a2)):\n",
        "    print(\"Да, третье множество является подмножеством второго и первого множеств\")\n",
        "else:\n",
        "    print(\"Нет, третье множество не является подмножеством второго и первого множеств\")"
      ],
      "execution_count": 6,
      "outputs": [
        {
          "output_type": "stream",
          "text": [
            "Введите элементы множества 1 подряд, без запятых и пробелов: \n",
            "12\n",
            "Введите элементы множества 2 подряд, без запятых и пробелов: \n",
            "34\n",
            "Введите элементы множества 3 подряд, без запятых и пробелов: \n",
            "5\n",
            "Нет, третье множество не является подмножеством второго и первого множеств\n"
          ],
          "name": "stdout"
        }
      ]
    }
  ]
}