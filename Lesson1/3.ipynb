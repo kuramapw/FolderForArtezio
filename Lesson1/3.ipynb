{
  "nbformat": 4,
  "nbformat_minor": 0,
  "metadata": {
    "colab": {
      "name": "Untitled2.ipynb",
      "provenance": [],
      "authorship_tag": "ABX9TyMsDeFwvUIcJMFIMu0807sB",
      "include_colab_link": true
    },
    "kernelspec": {
      "name": "python3",
      "display_name": "Python 3"
    }
  },
  "cells": [
    {
      "cell_type": "markdown",
      "metadata": {
        "id": "view-in-github",
        "colab_type": "text"
      },
      "source": [
        "<a href=\"https://colab.research.google.com/github/kuramapw/FolderForArtezio/blob/master/Lesson1/3.ipynb\" target=\"_parent\"><img src=\"https://colab.research.google.com/assets/colab-badge.svg\" alt=\"Open In Colab\"/></a>"
      ]
    },
    {
      "cell_type": "code",
      "metadata": {
        "id": "n5TetR8IzZaX",
        "colab_type": "code",
        "colab": {
          "base_uri": "https://localhost:8080/",
          "height": 69
        },
        "outputId": "2dd7c55a-9fce-4068-dc4a-d009bbf9f8b6"
      },
      "source": [
        "def f(s):\n",
        "    if(len(s)<2):\n",
        "        print('')\n",
        "    else:\n",
        "        print(s[0:2]+s[len(s)-2:len(s)])\n",
        "f(\"w3resourse\")\n",
        "f(\"w3w3\")\n",
        "f(\"w\")"
      ],
      "execution_count": 12,
      "outputs": [
        {
          "output_type": "stream",
          "text": [
            "w3se\n",
            "w3w3\n",
            "\n"
          ],
          "name": "stdout"
        }
      ]
    }
  ]
}