{
  "nbformat": 4,
  "nbformat_minor": 0,
  "metadata": {
    "colab": {
      "name": "Untitled7.ipynb",
      "provenance": [],
      "authorship_tag": "ABX9TyP6gTiMNGQts3byO75Pb+Wt",
      "include_colab_link": true
    },
    "kernelspec": {
      "name": "python3",
      "display_name": "Python 3"
    }
  },
  "cells": [
    {
      "cell_type": "markdown",
      "metadata": {
        "id": "view-in-github",
        "colab_type": "text"
      },
      "source": [
        "<a href=\"https://colab.research.google.com/github/kuramapw/FolderForArtezio/blob/master/Lesson1/7.ipynb\" target=\"_parent\"><img src=\"https://colab.research.google.com/assets/colab-badge.svg\" alt=\"Open In Colab\"/></a>"
      ]
    },
    {
      "cell_type": "code",
      "metadata": {
        "id": "46J3VbKNSvV9",
        "colab_type": "code",
        "colab": {
          "base_uri": "https://localhost:8080/",
          "height": 69
        },
        "outputId": "c508c7dc-ed93-45a5-9486-f9539d67b168"
      },
      "source": [
        "d1=dict()\n",
        "d2=dict()\n",
        "\n",
        "for i in range(5):  #генерируем два словаря\n",
        "    d1[i]=i*i\n",
        "    d2[i*2]=i*2\n",
        "print(\"Первое множество : \", d1)\n",
        "print(\"Второе множество : \", d2)\n",
        "d1.update(d2)\n",
        "print(\"Объединение : \", d1)"
      ],
      "execution_count": 33,
      "outputs": [
        {
          "output_type": "stream",
          "text": [
            "Первое множество :  {0: 0, 1: 1, 2: 4, 3: 9, 4: 16}\n",
            "Второе множество :  {0: 0, 2: 2, 4: 4, 6: 6, 8: 8}\n",
            "Объединение :  {0: 0, 1: 1, 2: 2, 3: 9, 4: 4, 6: 6, 8: 8}\n"
          ],
          "name": "stdout"
        }
      ]
    },
    {
      "cell_type": "code",
      "metadata": {
        "id": "MsqFAL93a-IY",
        "colab_type": "code",
        "colab": {
          "base_uri": "https://localhost:8080/",
          "height": 34
        },
        "outputId": "661d3b9c-6399-4f7d-ab34-e126f733c32a"
      },
      "source": [
        "d1[1]\n"
      ],
      "execution_count": 21,
      "outputs": [
        {
          "output_type": "execute_result",
          "data": {
            "text/plain": [
              "[1]"
            ]
          },
          "metadata": {
            "tags": []
          },
          "execution_count": 21
        }
      ]
    }
  ]
}